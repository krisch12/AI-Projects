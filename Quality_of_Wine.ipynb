{
 "cells": [
  {
   "cell_type": "code",
   "execution_count": 3,
   "metadata": {},
   "outputs": [],
   "source": [
    "import numpy as np\n",
    "import pandas as pd\n",
    "from sklearn import preprocessing\n",
    "from sklearn.model_selection import train_test_split\n",
    "from sklearn.ensemble import RandomForestClassifier\n",
    "from sklearn.tree import DecisionTreeClassifier\n",
    "from sklearn.linear_model import LogisticRegression\n",
    "from sklearn.linear_model import SGDClassifier\n",
    "from sklearn.naive_bayes import GaussianNB\n",
    "from sklearn.neighbors import KNeighborsClassifier\n",
    "from sklearn.svm import SVC\n",
    "from sklearn import metrics\n",
    "from sklearn.metrics import confusion_matrix"
   ]
  },
  {
   "cell_type": "code",
   "execution_count": 4,
   "metadata": {},
   "outputs": [],
   "source": [
    "#dataset_url = 'http://mlr.cs.umass.edu/ml/machine-learning-databases/wine-quality/winequality-red.csv'\n",
    "data = pd.read_csv('./winequality.csv')"
   ]
  },
  {
   "cell_type": "code",
   "execution_count": 5,
   "metadata": {},
   "outputs": [
    {
     "data": {
      "text/html": [
       "<div>\n",
       "<style scoped>\n",
       "    .dataframe tbody tr th:only-of-type {\n",
       "        vertical-align: middle;\n",
       "    }\n",
       "\n",
       "    .dataframe tbody tr th {\n",
       "        vertical-align: top;\n",
       "    }\n",
       "\n",
       "    .dataframe thead th {\n",
       "        text-align: right;\n",
       "    }\n",
       "</style>\n",
       "<table border=\"1\" class=\"dataframe\">\n",
       "  <thead>\n",
       "    <tr style=\"text-align: right;\">\n",
       "      <th></th>\n",
       "      <th>type</th>\n",
       "      <th>fixed acidity</th>\n",
       "      <th>volatile acidity</th>\n",
       "      <th>citric acid</th>\n",
       "      <th>residual sugar</th>\n",
       "      <th>chlorides</th>\n",
       "      <th>free sulfur dioxide</th>\n",
       "      <th>total sulfur dioxide</th>\n",
       "      <th>density</th>\n",
       "      <th>pH</th>\n",
       "      <th>sulphates</th>\n",
       "      <th>alcohol</th>\n",
       "      <th>quality</th>\n",
       "    </tr>\n",
       "  </thead>\n",
       "  <tbody>\n",
       "    <tr>\n",
       "      <th>0</th>\n",
       "      <td>white</td>\n",
       "      <td>7.0</td>\n",
       "      <td>0.27</td>\n",
       "      <td>0.36</td>\n",
       "      <td>20.7</td>\n",
       "      <td>0.045</td>\n",
       "      <td>45.0</td>\n",
       "      <td>170.0</td>\n",
       "      <td>1.0010</td>\n",
       "      <td>3.00</td>\n",
       "      <td>0.45</td>\n",
       "      <td>8.8</td>\n",
       "      <td>6</td>\n",
       "    </tr>\n",
       "    <tr>\n",
       "      <th>1</th>\n",
       "      <td>white</td>\n",
       "      <td>6.3</td>\n",
       "      <td>0.30</td>\n",
       "      <td>0.34</td>\n",
       "      <td>1.6</td>\n",
       "      <td>0.049</td>\n",
       "      <td>14.0</td>\n",
       "      <td>132.0</td>\n",
       "      <td>0.9940</td>\n",
       "      <td>3.30</td>\n",
       "      <td>0.49</td>\n",
       "      <td>9.5</td>\n",
       "      <td>6</td>\n",
       "    </tr>\n",
       "    <tr>\n",
       "      <th>2</th>\n",
       "      <td>white</td>\n",
       "      <td>8.1</td>\n",
       "      <td>0.28</td>\n",
       "      <td>0.40</td>\n",
       "      <td>6.9</td>\n",
       "      <td>0.050</td>\n",
       "      <td>30.0</td>\n",
       "      <td>97.0</td>\n",
       "      <td>0.9951</td>\n",
       "      <td>3.26</td>\n",
       "      <td>0.44</td>\n",
       "      <td>10.1</td>\n",
       "      <td>6</td>\n",
       "    </tr>\n",
       "    <tr>\n",
       "      <th>3</th>\n",
       "      <td>white</td>\n",
       "      <td>7.2</td>\n",
       "      <td>0.23</td>\n",
       "      <td>0.32</td>\n",
       "      <td>8.5</td>\n",
       "      <td>0.058</td>\n",
       "      <td>47.0</td>\n",
       "      <td>186.0</td>\n",
       "      <td>0.9956</td>\n",
       "      <td>3.19</td>\n",
       "      <td>0.40</td>\n",
       "      <td>9.9</td>\n",
       "      <td>6</td>\n",
       "    </tr>\n",
       "    <tr>\n",
       "      <th>4</th>\n",
       "      <td>white</td>\n",
       "      <td>7.2</td>\n",
       "      <td>0.23</td>\n",
       "      <td>0.32</td>\n",
       "      <td>8.5</td>\n",
       "      <td>0.058</td>\n",
       "      <td>47.0</td>\n",
       "      <td>186.0</td>\n",
       "      <td>0.9956</td>\n",
       "      <td>3.19</td>\n",
       "      <td>0.40</td>\n",
       "      <td>9.9</td>\n",
       "      <td>6</td>\n",
       "    </tr>\n",
       "  </tbody>\n",
       "</table>\n",
       "</div>"
      ],
      "text/plain": [
       "    type  fixed acidity  volatile acidity  citric acid  residual sugar  \\\n",
       "0  white            7.0              0.27         0.36            20.7   \n",
       "1  white            6.3              0.30         0.34             1.6   \n",
       "2  white            8.1              0.28         0.40             6.9   \n",
       "3  white            7.2              0.23         0.32             8.5   \n",
       "4  white            7.2              0.23         0.32             8.5   \n",
       "\n",
       "   chlorides  free sulfur dioxide  total sulfur dioxide  density    pH  \\\n",
       "0      0.045                 45.0                 170.0   1.0010  3.00   \n",
       "1      0.049                 14.0                 132.0   0.9940  3.30   \n",
       "2      0.050                 30.0                  97.0   0.9951  3.26   \n",
       "3      0.058                 47.0                 186.0   0.9956  3.19   \n",
       "4      0.058                 47.0                 186.0   0.9956  3.19   \n",
       "\n",
       "   sulphates  alcohol  quality  \n",
       "0       0.45      8.8        6  \n",
       "1       0.49      9.5        6  \n",
       "2       0.44     10.1        6  \n",
       "3       0.40      9.9        6  \n",
       "4       0.40      9.9        6  "
      ]
     },
     "execution_count": 5,
     "metadata": {},
     "output_type": "execute_result"
    }
   ],
   "source": [
    "data.head()"
   ]
  },
  {
   "cell_type": "code",
   "execution_count": 50,
   "metadata": {},
   "outputs": [
    {
     "name": "stdout",
     "output_type": "stream",
     "text": [
      "(6497, 13)\n"
     ]
    }
   ],
   "source": [
    "print( data.shape) # 1599 samples and 12 features inclus´ding target feature"
   ]
  },
  {
   "cell_type": "code",
   "execution_count": 68,
   "metadata": {},
   "outputs": [
    {
     "name": "stdout",
     "output_type": "stream",
     "text": [
      "<class 'pandas.core.frame.DataFrame'>\n",
      "RangeIndex: 6497 entries, 0 to 6496\n",
      "Data columns (total 13 columns):\n",
      "type                    6497 non-null object\n",
      "fixed acidity           6497 non-null float64\n",
      "volatile acidity        6497 non-null float64\n",
      "citric acid             6497 non-null float64\n",
      "residual sugar          6497 non-null float64\n",
      "chlorides               6497 non-null float64\n",
      "free sulfur dioxide     6497 non-null float64\n",
      "total sulfur dioxide    6497 non-null float64\n",
      "density                 6497 non-null float64\n",
      "pH                      6497 non-null float64\n",
      "sulphates               6497 non-null float64\n",
      "alcohol                 6497 non-null float64\n",
      "quality                 6497 non-null int64\n",
      "dtypes: float64(11), int64(1), object(1)\n",
      "memory usage: 659.9+ KB\n",
      "None\n"
     ]
    }
   ],
   "source": [
    "print(data.info())"
   ]
  },
  {
   "cell_type": "code",
   "execution_count": 69,
   "metadata": {},
   "outputs": [],
   "source": [
    "X_data= data.drop('quality', axis=1)"
   ]
  },
  {
   "cell_type": "code",
   "execution_count": 70,
   "metadata": {},
   "outputs": [
    {
     "data": {
      "text/html": [
       "<div>\n",
       "<style scoped>\n",
       "    .dataframe tbody tr th:only-of-type {\n",
       "        vertical-align: middle;\n",
       "    }\n",
       "\n",
       "    .dataframe tbody tr th {\n",
       "        vertical-align: top;\n",
       "    }\n",
       "\n",
       "    .dataframe thead th {\n",
       "        text-align: right;\n",
       "    }\n",
       "</style>\n",
       "<table border=\"1\" class=\"dataframe\">\n",
       "  <thead>\n",
       "    <tr style=\"text-align: right;\">\n",
       "      <th></th>\n",
       "      <th>fixed acidity</th>\n",
       "      <th>volatile acidity</th>\n",
       "      <th>citric acid</th>\n",
       "      <th>residual sugar</th>\n",
       "      <th>chlorides</th>\n",
       "      <th>free sulfur dioxide</th>\n",
       "      <th>total sulfur dioxide</th>\n",
       "      <th>density</th>\n",
       "      <th>pH</th>\n",
       "      <th>sulphates</th>\n",
       "      <th>alcohol</th>\n",
       "      <th>quality</th>\n",
       "    </tr>\n",
       "  </thead>\n",
       "  <tbody>\n",
       "    <tr>\n",
       "      <th>0</th>\n",
       "      <td>7.0</td>\n",
       "      <td>0.27</td>\n",
       "      <td>0.36</td>\n",
       "      <td>20.7</td>\n",
       "      <td>0.045</td>\n",
       "      <td>45.0</td>\n",
       "      <td>170.0</td>\n",
       "      <td>1.0010</td>\n",
       "      <td>3.00</td>\n",
       "      <td>0.45</td>\n",
       "      <td>8.8</td>\n",
       "      <td>6</td>\n",
       "    </tr>\n",
       "    <tr>\n",
       "      <th>1</th>\n",
       "      <td>6.3</td>\n",
       "      <td>0.30</td>\n",
       "      <td>0.34</td>\n",
       "      <td>1.6</td>\n",
       "      <td>0.049</td>\n",
       "      <td>14.0</td>\n",
       "      <td>132.0</td>\n",
       "      <td>0.9940</td>\n",
       "      <td>3.30</td>\n",
       "      <td>0.49</td>\n",
       "      <td>9.5</td>\n",
       "      <td>6</td>\n",
       "    </tr>\n",
       "    <tr>\n",
       "      <th>2</th>\n",
       "      <td>8.1</td>\n",
       "      <td>0.28</td>\n",
       "      <td>0.40</td>\n",
       "      <td>6.9</td>\n",
       "      <td>0.050</td>\n",
       "      <td>30.0</td>\n",
       "      <td>97.0</td>\n",
       "      <td>0.9951</td>\n",
       "      <td>3.26</td>\n",
       "      <td>0.44</td>\n",
       "      <td>10.1</td>\n",
       "      <td>6</td>\n",
       "    </tr>\n",
       "    <tr>\n",
       "      <th>3</th>\n",
       "      <td>7.2</td>\n",
       "      <td>0.23</td>\n",
       "      <td>0.32</td>\n",
       "      <td>8.5</td>\n",
       "      <td>0.058</td>\n",
       "      <td>47.0</td>\n",
       "      <td>186.0</td>\n",
       "      <td>0.9956</td>\n",
       "      <td>3.19</td>\n",
       "      <td>0.40</td>\n",
       "      <td>9.9</td>\n",
       "      <td>6</td>\n",
       "    </tr>\n",
       "    <tr>\n",
       "      <th>4</th>\n",
       "      <td>7.2</td>\n",
       "      <td>0.23</td>\n",
       "      <td>0.32</td>\n",
       "      <td>8.5</td>\n",
       "      <td>0.058</td>\n",
       "      <td>47.0</td>\n",
       "      <td>186.0</td>\n",
       "      <td>0.9956</td>\n",
       "      <td>3.19</td>\n",
       "      <td>0.40</td>\n",
       "      <td>9.9</td>\n",
       "      <td>6</td>\n",
       "    </tr>\n",
       "  </tbody>\n",
       "</table>\n",
       "</div>"
      ],
      "text/plain": [
       "   fixed acidity  volatile acidity  citric acid  residual sugar  chlorides  \\\n",
       "0            7.0              0.27         0.36            20.7      0.045   \n",
       "1            6.3              0.30         0.34             1.6      0.049   \n",
       "2            8.1              0.28         0.40             6.9      0.050   \n",
       "3            7.2              0.23         0.32             8.5      0.058   \n",
       "4            7.2              0.23         0.32             8.5      0.058   \n",
       "\n",
       "   free sulfur dioxide  total sulfur dioxide  density    pH  sulphates  \\\n",
       "0                 45.0                 170.0   1.0010  3.00       0.45   \n",
       "1                 14.0                 132.0   0.9940  3.30       0.49   \n",
       "2                 30.0                  97.0   0.9951  3.26       0.44   \n",
       "3                 47.0                 186.0   0.9956  3.19       0.40   \n",
       "4                 47.0                 186.0   0.9956  3.19       0.40   \n",
       "\n",
       "   alcohol  quality  \n",
       "0      8.8        6  \n",
       "1      9.5        6  \n",
       "2     10.1        6  \n",
       "3      9.9        6  \n",
       "4      9.9        6  "
      ]
     },
     "execution_count": 70,
     "metadata": {},
     "output_type": "execute_result"
    }
   ],
   "source": [
    "X_data= data.drop('type', axis=1)\n",
    "X_data.head()"
   ]
  },
  {
   "cell_type": "code",
   "execution_count": 71,
   "metadata": {},
   "outputs": [],
   "source": [
    "y= data.quality"
   ]
  },
  {
   "cell_type": "code",
   "execution_count": 72,
   "metadata": {},
   "outputs": [
    {
     "data": {
      "text/plain": [
       "0    6\n",
       "1    6\n",
       "2    6\n",
       "3    6\n",
       "4    6\n",
       "Name: quality, dtype: int64"
      ]
     },
     "execution_count": 72,
     "metadata": {},
     "output_type": "execute_result"
    }
   ],
   "source": [
    "y.head()"
   ]
  },
  {
   "cell_type": "code",
   "execution_count": 73,
   "metadata": {},
   "outputs": [
    {
     "name": "stdout",
     "output_type": "stream",
     "text": [
      "      fixed acidity  volatile acidity  citric acid  residual sugar  chlorides  \\\n",
      "0             False             False        False           False      False   \n",
      "1             False             False        False           False      False   \n",
      "2             False             False        False           False      False   \n",
      "3             False             False        False           False      False   \n",
      "4             False             False        False           False      False   \n",
      "5             False             False        False           False      False   \n",
      "6             False             False        False           False      False   \n",
      "7             False             False        False           False      False   \n",
      "8             False             False        False           False      False   \n",
      "9             False             False        False           False      False   \n",
      "10            False             False        False           False      False   \n",
      "11            False             False        False           False      False   \n",
      "12            False             False        False           False      False   \n",
      "13            False             False        False           False      False   \n",
      "14            False             False        False           False      False   \n",
      "15            False             False        False           False      False   \n",
      "16            False             False        False           False      False   \n",
      "17            False             False        False           False      False   \n",
      "18            False             False        False           False      False   \n",
      "19            False             False        False           False      False   \n",
      "20            False             False        False           False      False   \n",
      "21            False             False        False           False      False   \n",
      "22            False             False        False           False      False   \n",
      "23            False             False        False           False      False   \n",
      "24            False             False        False           False      False   \n",
      "25            False             False        False           False      False   \n",
      "26            False             False        False           False      False   \n",
      "27            False             False        False           False      False   \n",
      "28            False             False        False           False      False   \n",
      "29            False             False        False           False      False   \n",
      "...             ...               ...          ...             ...        ...   \n",
      "6467          False             False        False           False      False   \n",
      "6468          False             False        False           False      False   \n",
      "6469          False             False        False           False      False   \n",
      "6470          False             False        False           False      False   \n",
      "6471          False             False        False           False      False   \n",
      "6472          False             False        False           False      False   \n",
      "6473          False             False        False           False      False   \n",
      "6474          False             False        False           False      False   \n",
      "6475          False             False        False           False      False   \n",
      "6476          False             False        False           False      False   \n",
      "6477          False             False        False           False      False   \n",
      "6478          False             False        False           False      False   \n",
      "6479          False             False        False           False      False   \n",
      "6480          False             False        False           False      False   \n",
      "6481          False             False        False           False      False   \n",
      "6482          False             False        False           False      False   \n",
      "6483          False             False        False           False      False   \n",
      "6484          False             False        False           False      False   \n",
      "6485          False             False        False           False      False   \n",
      "6486          False             False        False           False      False   \n",
      "6487          False             False        False           False      False   \n",
      "6488          False             False        False           False      False   \n",
      "6489          False             False        False           False      False   \n",
      "6490          False             False        False           False      False   \n",
      "6491          False             False        False           False      False   \n",
      "6492          False             False        False           False      False   \n",
      "6493          False             False        False           False      False   \n",
      "6494          False             False        False           False      False   \n",
      "6495          False             False        False           False      False   \n",
      "6496          False             False        False           False      False   \n",
      "\n",
      "      free sulfur dioxide  total sulfur dioxide  density     pH  sulphates  \\\n",
      "0                   False                 False    False  False      False   \n",
      "1                   False                 False    False  False      False   \n",
      "2                   False                 False    False  False      False   \n",
      "3                   False                 False    False  False      False   \n",
      "4                   False                 False    False  False      False   \n",
      "5                   False                 False    False  False      False   \n",
      "6                   False                 False    False  False      False   \n",
      "7                   False                 False    False  False      False   \n",
      "8                   False                 False    False  False      False   \n",
      "9                   False                 False    False  False      False   \n",
      "10                  False                 False    False  False      False   \n",
      "11                  False                 False    False  False      False   \n",
      "12                  False                 False    False  False      False   \n",
      "13                  False                 False    False  False      False   \n",
      "14                  False                 False    False  False      False   \n",
      "15                  False                 False    False  False      False   \n",
      "16                  False                 False    False  False      False   \n",
      "17                  False                 False    False  False      False   \n",
      "18                  False                 False    False  False      False   \n",
      "19                  False                 False    False  False      False   \n",
      "20                  False                 False    False  False      False   \n",
      "21                  False                 False    False  False      False   \n",
      "22                  False                 False    False  False      False   \n",
      "23                  False                 False    False  False      False   \n",
      "24                  False                 False    False  False      False   \n",
      "25                  False                 False    False  False      False   \n",
      "26                  False                 False    False  False      False   \n",
      "27                  False                 False    False  False      False   \n",
      "28                  False                 False    False  False      False   \n",
      "29                  False                 False    False  False      False   \n",
      "...                   ...                   ...      ...    ...        ...   \n",
      "6467                False                 False    False  False      False   \n",
      "6468                False                 False    False  False      False   \n",
      "6469                False                 False    False  False      False   \n",
      "6470                False                 False    False  False      False   \n",
      "6471                False                 False    False  False      False   \n",
      "6472                False                 False    False  False      False   \n",
      "6473                False                 False    False  False      False   \n",
      "6474                False                 False    False  False      False   \n",
      "6475                False                 False    False  False      False   \n",
      "6476                False                 False    False  False      False   \n",
      "6477                False                 False    False  False      False   \n",
      "6478                False                 False    False  False      False   \n",
      "6479                False                 False    False  False      False   \n",
      "6480                False                 False    False  False      False   \n",
      "6481                False                 False    False  False      False   \n",
      "6482                False                 False    False  False      False   \n",
      "6483                False                 False    False  False      False   \n",
      "6484                False                 False    False  False      False   \n",
      "6485                False                 False    False  False      False   \n",
      "6486                False                 False    False  False      False   \n",
      "6487                False                 False    False  False      False   \n",
      "6488                False                 False    False  False      False   \n",
      "6489                False                 False    False  False      False   \n",
      "6490                False                 False    False  False      False   \n",
      "6491                False                 False    False  False      False   \n",
      "6492                False                 False    False  False      False   \n",
      "6493                False                 False    False  False      False   \n",
      "6494                False                 False    False  False      False   \n",
      "6495                False                 False    False  False      False   \n",
      "6496                False                 False    False  False      False   \n",
      "\n",
      "      alcohol  quality  \n",
      "0       False    False  \n",
      "1       False    False  \n",
      "2       False    False  \n",
      "3       False    False  \n",
      "4       False    False  \n",
      "5       False    False  \n",
      "6       False    False  \n",
      "7       False    False  \n",
      "8       False    False  \n",
      "9       False    False  \n",
      "10      False    False  \n",
      "11      False    False  \n",
      "12      False    False  \n",
      "13      False    False  \n",
      "14      False    False  \n",
      "15      False    False  \n",
      "16      False    False  \n",
      "17      False    False  \n",
      "18      False    False  \n",
      "19      False    False  \n",
      "20      False    False  \n",
      "21      False    False  \n",
      "22      False    False  \n",
      "23      False    False  \n",
      "24      False    False  \n",
      "25      False    False  \n",
      "26      False    False  \n",
      "27      False    False  \n",
      "28      False    False  \n",
      "29      False    False  \n",
      "...       ...      ...  \n",
      "6467    False    False  \n",
      "6468    False    False  \n",
      "6469    False    False  \n",
      "6470    False    False  \n",
      "6471    False    False  \n",
      "6472    False    False  \n",
      "6473    False    False  \n",
      "6474    False    False  \n",
      "6475    False    False  \n",
      "6476    False    False  \n",
      "6477    False    False  \n",
      "6478    False    False  \n",
      "6479    False    False  \n",
      "6480    False    False  \n",
      "6481    False    False  \n",
      "6482    False    False  \n",
      "6483    False    False  \n",
      "6484    False    False  \n",
      "6485    False    False  \n",
      "6486    False    False  \n",
      "6487    False    False  \n",
      "6488    False    False  \n",
      "6489    False    False  \n",
      "6490    False    False  \n",
      "6491    False    False  \n",
      "6492    False    False  \n",
      "6493    False    False  \n",
      "6494    False    False  \n",
      "6495    False    False  \n",
      "6496    False    False  \n",
      "\n",
      "[6497 rows x 12 columns]\n",
      "(array([], dtype=int64), array([], dtype=int64))\n",
      "type                    False\n",
      "fixed acidity           False\n",
      "volatile acidity        False\n",
      "citric acid             False\n",
      "residual sugar          False\n",
      "chlorides               False\n",
      "free sulfur dioxide     False\n",
      "total sulfur dioxide    False\n",
      "density                 False\n",
      "pH                      False\n",
      "sulphates               False\n",
      "alcohol                 False\n",
      "quality                 False\n",
      "dtype: bool\n"
     ]
    }
   ],
   "source": [
    "#check NaN\n",
    "print((np.isnan(X_data)))\n",
    "print(np.where(np.isnan(X_data)))\n",
    "col_mask=data.isnull().any(axis=0)\n",
    "print(col_mask)"
   ]
  },
  {
   "cell_type": "code",
   "execution_count": 74,
   "metadata": {},
   "outputs": [],
   "source": [
    "X_train, X_test, y_train, y_test = train_test_split(X_data, y, test_size=0.3, random_state=1)"
   ]
  },
  {
   "cell_type": "code",
   "execution_count": 75,
   "metadata": {},
   "outputs": [
    {
     "name": "stdout",
     "output_type": "stream",
     "text": [
      "creating models using diff algorithms\n",
      "Accuracy: 1.0\n"
     ]
    }
   ],
   "source": [
    "print('creating models using diff algorithms')\n",
    "decision_tree = DecisionTreeClassifier()\n",
    "dt=decision_tree.fit(X_train,y_train)\n",
    "tree_pred = decision_tree.predict(X_test)\n",
    "print(\"Accuracy:\",metrics.accuracy_score(y_test, tree_pred))"
   ]
  },
  {
   "cell_type": "code",
   "execution_count": 76,
   "metadata": {},
   "outputs": [
    {
     "name": "stdout",
     "output_type": "stream",
     "text": [
      "Accuracy: 0.9938461538461538\n"
     ]
    },
    {
     "name": "stderr",
     "output_type": "stream",
     "text": [
      "C:\\Users\\q490211\\AppData\\Local\\Continuum\\anaconda3\\lib\\site-packages\\sklearn\\ensemble\\forest.py:245: FutureWarning: The default value of n_estimators will change from 10 in version 0.20 to 100 in 0.22.\n",
      "  \"10 in version 0.20 to 100 in 0.22.\", FutureWarning)\n"
     ]
    }
   ],
   "source": [
    "rf = RandomForestClassifier()\n",
    "rf.fit(X_train,y_train)\n",
    "rf_pred = rf.predict(X_test)\n",
    "print(\"Accuracy:\",metrics.accuracy_score(y_test, rf_pred))"
   ]
  },
  {
   "cell_type": "code",
   "execution_count": 78,
   "metadata": {},
   "outputs": [
    {
     "name": "stdout",
     "output_type": "stream",
     "text": [
      "99.6923076923077 %\n",
      "99.48717948717949 %\n",
      "99.58974358974359 %\n",
      "99.58974358974359 %\n",
      "99.64102564102564 %\n"
     ]
    }
   ],
   "source": [
    "#Cross validation at fine tuning for Random classifier\n",
    "k = [10,20,30,40,50]\n",
    "for i in k:\n",
    "    rf_tune = RandomForestClassifier(n_estimators=50, random_state=i)\n",
    "    rf_tune.fit(X_train,y_train)\n",
    "    y_pred_tune = rf_tune.predict(X_test)\n",
    "    print(metrics.accuracy_score(y_test, y_pred_tune)*100,'%')"
   ]
  },
  {
   "cell_type": "code",
   "execution_count": 81,
   "metadata": {},
   "outputs": [
    {
     "name": "stderr",
     "output_type": "stream",
     "text": [
      "C:\\Users\\q490211\\AppData\\Local\\Continuum\\anaconda3\\lib\\site-packages\\sklearn\\linear_model\\logistic.py:432: FutureWarning: Default solver will be changed to 'lbfgs' in 0.22. Specify a solver to silence this warning.\n",
      "  FutureWarning)\n",
      "C:\\Users\\q490211\\AppData\\Local\\Continuum\\anaconda3\\lib\\site-packages\\sklearn\\linear_model\\logistic.py:469: FutureWarning: Default multi_class will be changed to 'auto' in 0.22. Specify the multi_class option to silence this warning.\n",
      "  \"this warning.\", FutureWarning)\n"
     ]
    },
    {
     "name": "stdout",
     "output_type": "stream",
     "text": [
      "Accuracy: 0.8707692307692307\n"
     ]
    }
   ],
   "source": [
    "lr=LogisticRegression()\n",
    "lr.fit(X_train,y_train)\n",
    "regr_pred= lr.predict(X_test)\n",
    "print(\"Accuracy:\",metrics.accuracy_score(y_test, regr_pred))"
   ]
  },
  {
   "cell_type": "code",
   "execution_count": 83,
   "metadata": {},
   "outputs": [
    {
     "name": "stdout",
     "output_type": "stream",
     "text": [
      "Accuracy: 1.0\n"
     ]
    }
   ],
   "source": [
    "bayes=GaussianNB()\n",
    "bayes.fit(X_train,y_train)\n",
    "bayes_pred=bayes.predict(X_test)\n",
    "print(\"Accuracy:\",metrics.accuracy_score(y_test, bayes_pred))"
   ]
  },
  {
   "cell_type": "code",
   "execution_count": 92,
   "metadata": {},
   "outputs": [
    {
     "name": "stdout",
     "output_type": "stream",
     "text": [
      "Accuracy: 0.7548717948717949\n"
     ]
    }
   ],
   "source": [
    "graddes=SGDClassifier(loss='modified_huber',shuffle=True,random_state=101)\n",
    "graddes.fit(X_train,y_train)\n",
    "graddes_pred= graddes.predict(X_test)\n",
    "print(\"Accuracy:\",metrics.accuracy_score(y_test, graddes_pred))\n",
    "#accuracy with loss='modified_huber' is 66%, hinge= 70%, log=75%\n"
   ]
  },
  {
   "cell_type": "code",
   "execution_count": 98,
   "metadata": {},
   "outputs": [
    {
     "name": "stdout",
     "output_type": "stream",
     "text": [
      "Accuracy: 0.5241025641025641\n"
     ]
    }
   ],
   "source": [
    "knn=KNeighborsClassifier(n_neighbors=5)\n",
    "knn.fit(X_train,y_train)\n",
    "knn_pred=knn.predict(X_test)\n",
    "print(\"Accuracy:\",metrics.accuracy_score(y_test, knn_pred))"
   ]
  },
  {
   "cell_type": "code",
   "execution_count": 110,
   "metadata": {},
   "outputs": [
    {
     "name": "stdout",
     "output_type": "stream",
     "text": [
      "Accuracy: 0.9948717948717949\n"
     ]
    }
   ],
   "source": [
    "svm=SVC(kernel='poly',C=1000,gamma=0.01)\n",
    "svm.fit(X_train,y_train)\n",
    "svm_pred=svm.predict(X_test)\n",
    "print(\"Accuracy:\",metrics.accuracy_score(y_test, svm_pred))\n",
    "#accuracy with kernel='linear'  accuracy is 99.6% ,without gamma. Accuracy increases on decrease of gamma value\n",
    "#C is regularization parameter"
   ]
  },
  {
   "cell_type": "code",
   "execution_count": 37,
   "metadata": {},
   "outputs": [],
   "source": [
    "classifier_list = [\"Decision Tree\",\" Random Forest\",\" Logistic Regression\",\" GaussianNB\",\"SGD\",\" KNeighbors\",\"SVM\"]\n",
    "acc = np.array([[1.0 ,0.993 ,0.87,1.0,0.75, 0.52, 0.99]])"
   ]
  },
  {
   "cell_type": "code",
   "execution_count": 45,
   "metadata": {},
   "outputs": [
    {
     "name": "stdout",
     "output_type": "stream",
     "text": [
      "          Decision Tree Random Forest Logistic Regression GaussianNB       SGD KNeighbors       SVM\n"
     ]
    },
    {
     "ename": "TypeError",
     "evalue": "unsupported format string passed to numpy.ndarray.__format__",
     "output_type": "error",
     "traceback": [
      "\u001b[1;31m---------------------------------------------------------------------------\u001b[0m",
      "\u001b[1;31mTypeError\u001b[0m                                 Traceback (most recent call last)",
      "\u001b[1;32m<ipython-input-45-b27df9d1da9f>\u001b[0m in \u001b[0;36m<module>\u001b[1;34m\u001b[0m\n\u001b[0;32m      2\u001b[0m \u001b[0mprint\u001b[0m\u001b[1;33m(\u001b[0m\u001b[0mrow_format\u001b[0m\u001b[1;33m.\u001b[0m\u001b[0mformat\u001b[0m\u001b[1;33m(\u001b[0m\u001b[1;34m\" \"\u001b[0m\u001b[1;33m,\u001b[0m \u001b[1;33m*\u001b[0m\u001b[0mclassifier_list\u001b[0m\u001b[1;33m)\u001b[0m\u001b[1;33m)\u001b[0m\u001b[1;33m\u001b[0m\u001b[1;33m\u001b[0m\u001b[0m\n\u001b[0;32m      3\u001b[0m \u001b[1;32mfor\u001b[0m \u001b[0mi\u001b[0m \u001b[1;32min\u001b[0m \u001b[0mzip\u001b[0m\u001b[1;33m(\u001b[0m\u001b[0mclassifier_list\u001b[0m\u001b[1;33m,\u001b[0m \u001b[0macc\u001b[0m\u001b[1;33m)\u001b[0m\u001b[1;33m:\u001b[0m\u001b[1;33m\u001b[0m\u001b[1;33m\u001b[0m\u001b[0m\n\u001b[1;32m----> 4\u001b[1;33m     \u001b[0mprint\u001b[0m\u001b[1;33m(\u001b[0m\u001b[0mrow_format\u001b[0m\u001b[1;33m.\u001b[0m\u001b[0mformat\u001b[0m\u001b[1;33m(\u001b[0m\u001b[1;34m''\u001b[0m\u001b[1;33m,\u001b[0m\u001b[1;33m*\u001b[0m\u001b[0macc\u001b[0m\u001b[1;33m)\u001b[0m\u001b[1;33m)\u001b[0m\u001b[1;33m\u001b[0m\u001b[1;33m\u001b[0m\u001b[0m\n\u001b[0m",
      "\u001b[1;31mTypeError\u001b[0m: unsupported format string passed to numpy.ndarray.__format__"
     ]
    }
   ],
   "source": [
    "row_format =\"{:>10}\" * (len(classifier_list) + 1)\n",
    "print(row_format.format(\" \", *classifier_list))\n",
    "for i in zip(classifier_list, acc):\n",
    "    print(row_format.format('',*acc))"
   ]
  },
  {
   "cell_type": "code",
   "execution_count": null,
   "metadata": {},
   "outputs": [],
   "source": []
  }
 ],
 "metadata": {
  "kernelspec": {
   "display_name": "Python 3",
   "language": "python",
   "name": "python3"
  },
  "language_info": {
   "codemirror_mode": {
    "name": "ipython",
    "version": 3
   },
   "file_extension": ".py",
   "mimetype": "text/x-python",
   "name": "python",
   "nbconvert_exporter": "python",
   "pygments_lexer": "ipython3",
   "version": "3.7.3"
  }
 },
 "nbformat": 4,
 "nbformat_minor": 2
}
